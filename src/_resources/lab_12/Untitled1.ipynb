{
 "cells": [
  {
   "cell_type": "code",
   "execution_count": 1,
   "id": "2bf7afcb",
   "metadata": {},
   "outputs": [],
   "source": [
    "P_D=0.005\n",
    "P_p_D=0.99\n",
    "P_p_N=0.01"
   ]
  },
  {
   "cell_type": "code",
   "execution_count": 2,
   "id": "88af34b5",
   "metadata": {},
   "outputs": [
    {
     "data": {
      "text/plain": [
       "0.33221476510067116"
      ]
     },
     "execution_count": 2,
     "metadata": {},
     "output_type": "execute_result"
    }
   ],
   "source": [
    "P_p_D*P_D/(P_p_D*P_D+P_p_N*(1-P_D))"
   ]
  }
 ],
 "metadata": {
  "kernelspec": {
   "display_name": "Python 3 (ipykernel)",
   "language": "python",
   "name": "python3"
  },
  "language_info": {
   "codemirror_mode": {
    "name": "ipython",
    "version": 3
   },
   "file_extension": ".py",
   "mimetype": "text/x-python",
   "name": "python",
   "nbconvert_exporter": "python",
   "pygments_lexer": "ipython3",
   "version": "3.10.6"
  }
 },
 "nbformat": 4,
 "nbformat_minor": 5
}
